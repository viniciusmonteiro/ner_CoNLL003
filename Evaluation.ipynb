{
 "cells": [
  {
   "cell_type": "code",
   "execution_count": 1,
   "metadata": {},
   "outputs": [],
   "source": [
    "from typing import List\n",
    "import numpy as np\n",
    "import pandas as pd\n",
    "from seqeval.scheme import IOBES, IOB1\n",
    "from sklearn.metrics import confusion_matrix\n",
    "from sklearn_crfsuite import metrics\n",
    "\n",
    "from src.util import load_sentences, preprocess_sentences"
   ]
  },
  {
   "cell_type": "markdown",
   "metadata": {},
   "source": [
    "### Evaluate Models"
   ]
  },
  {
   "cell_type": "code",
   "execution_count": 2,
   "metadata": {},
   "outputs": [
    {
     "name": "stderr",
     "output_type": "stream",
     "text": [
      "/home/vinicius/Workspace/playtika/playtika-env/lib/python3.6/site-packages/ipykernel_launcher.py:7: VisibleDeprecationWarning: Creating an ndarray from ragged nested sequences (which is a list-or-tuple of lists-or-tuples-or ndarrays with different lengths or shapes) is deprecated. If you meant to do this, you must specify 'dtype=object' when creating the ndarray\n",
      "  import sys\n"
     ]
    },
    {
     "name": "stdout",
     "output_type": "stream",
     "text": [
      "|> Evaluate: bert dbmdz/bert-base-cased-finetuned-conll03-english bert-base-finetuned\n"
     ]
    },
    {
     "data": {
      "application/vnd.jupyter.widget-view+json": {
       "model_id": "eeedaa29d0e4402cbd0b09e141c265b0",
       "version_major": 2,
       "version_minor": 0
      },
      "text/plain": [
       "  0%|          | 0/2 [00:00<?, ?it/s]"
      ]
     },
     "metadata": {},
     "output_type": "display_data"
    },
    {
     "data": {
      "application/vnd.jupyter.widget-view+json": {
       "model_id": "51b9ceafab434673834ab38a2e259e2b",
       "version_major": 2,
       "version_minor": 0
      },
      "text/plain": [
       "Running Evaluation:   0%|          | 0/125 [00:00<?, ?it/s]"
      ]
     },
     "metadata": {},
     "output_type": "display_data"
    },
    {
     "name": "stdout",
     "output_type": "stream",
     "text": [
      "|> bert-base-finetuned Result: {'eval_loss': 1.1740812141895294, 'precision': 0.9105263157894737, 'recall': 0.9251336898395722, 'f1_score': 0.9177718832891247}\n",
      "|> Evaluate: bert dslim/bert-base-NER bert-base-NER\n"
     ]
    },
    {
     "data": {
      "application/vnd.jupyter.widget-view+json": {
       "model_id": "e6f8f09a419b478080651db9011f3899",
       "version_major": 2,
       "version_minor": 0
      },
      "text/plain": [
       "  0%|          | 0/2 [00:00<?, ?it/s]"
      ]
     },
     "metadata": {},
     "output_type": "display_data"
    },
    {
     "data": {
      "application/vnd.jupyter.widget-view+json": {
       "model_id": "938017d43a974f1db70d31f06716772c",
       "version_major": 2,
       "version_minor": 0
      },
      "text/plain": [
       "Running Evaluation:   0%|          | 0/125 [00:00<?, ?it/s]"
      ]
     },
     "metadata": {},
     "output_type": "display_data"
    },
    {
     "name": "stdout",
     "output_type": "stream",
     "text": [
      "|> bert-base-NER Result: {'eval_loss': 0.08946374598058174, 'precision': 0.9117475160724723, 'recall': 0.9269162210338681, 'f1_score': 0.9192692987625221}\n",
      "|> Evaluate: bert Davlan/bert-base-multilingual-cased-ner-hrl bert-base-multilingual\n"
     ]
    },
    {
     "data": {
      "application/vnd.jupyter.widget-view+json": {
       "model_id": "aef678a2cc024f9991b9307af1685ed6",
       "version_major": 2,
       "version_minor": 0
      },
      "text/plain": [
       "  0%|          | 0/2 [00:00<?, ?it/s]"
      ]
     },
     "metadata": {},
     "output_type": "display_data"
    },
    {
     "data": {
      "application/vnd.jupyter.widget-view+json": {
       "model_id": "df899ccb17c6471d91b894cde2740d15",
       "version_major": 2,
       "version_minor": 0
      },
      "text/plain": [
       "Running Evaluation:   0%|          | 0/125 [00:00<?, ?it/s]"
      ]
     },
     "metadata": {},
     "output_type": "display_data"
    },
    {
     "name": "stdout",
     "output_type": "stream",
     "text": [
      "|> bert-base-multilingual Result: {'eval_loss': 0.3565394883736444, 'precision': 0.9358541525995948, 'recall': 0.8235294117647058, 'f1_score': 0.8761061946902654}\n"
     ]
    }
   ],
   "source": [
    "from simpletransformers.ner import NERModel,NERArgs\n",
    "\n",
    "\n",
    "# evaluation set\n",
    "base_path = 'datasets/conll2003/'\n",
    "test_samples = load_sentences(base_path + 'test.txt')\n",
    "test_samples = np.random.choice(test_samples, 1000, False) # sampling without replacement\n",
    "df_test = preprocess_sentences(test_samples)\n",
    "\n",
    "# models\n",
    "models_pre_trained = [\n",
    "    ('bert', 'dbmdz/bert-base-cased-finetuned-conll03-english', 'bert-base-finetuned'), \n",
    "    ('bert', 'dslim/bert-base-NER', 'bert-base-NER'),\n",
    "    ('bert', 'Davlan/bert-base-multilingual-cased-ner-hrl', 'bert-base-multilingual')\n",
    "]\n",
    "\n",
    "\n",
    "# log results\n",
    "dict_results = {}\n",
    "for model_class, pre_trained, name in models_pre_trained:\n",
    "    print(\"|> Evaluate: {} {} {}\".format(model_class, pre_trained, name))\n",
    "\n",
    "    model = NERModel('bert', pre_trained, use_cuda=False)\n",
    "    result, model_outputs, preds_list = model.eval_model(df_test)\n",
    "    \n",
    "    dict_results[name] = {\n",
    "        \"result\": result, \n",
    "        \"preds_list\": preds_list\n",
    "    }\n",
    "    \n",
    "    print(\"|> {} Result: {}\".format(name, result))\n"
   ]
  },
  {
   "cell_type": "code",
   "execution_count": 3,
   "metadata": {},
   "outputs": [],
   "source": [
    "def classification_report_entity_level(y_true: List[List[str]], y_pred: List[List[str]], digits=3, output_dict=False):\n",
    "    from seqeval import metrics\n",
    "    return metrics.classification_report(y_true, y_pred, mode='strict', scheme=IOBES, digits=digits,\n",
    "                                         output_dict=output_dict)\n",
    "\n",
    "\n",
    "def classification_report_token_level(y_true: List[List[str]], y_pred: List[List[str]], digits=3, output_dict=False):\n",
    "    # listing all possible labels from the ground true\n",
    "    labels = set()\n",
    "    _ = [labels.update(set(i)) for i in y_true]\n",
    "\n",
    "    # remove Others (\"O\") labels (not a entity)\n",
    "    labels.remove('O')\n",
    "\n",
    "    # sort the labels\n",
    "    sorted_labels = sorted(\n",
    "        labels,\n",
    "        key=lambda name: (name[1:], name[0]),\n",
    "    )\n",
    "\n",
    "    # compute and return the metrics\n",
    "    from sklearn_crfsuite import metrics\n",
    "    return metrics.flat_classification_report(y_true, y_pred, labels=sorted_labels, digits=digits,\n",
    "                                              output_dict=output_dict)\n",
    "\n"
   ]
  },
  {
   "cell_type": "markdown",
   "metadata": {},
   "source": [
    "### Result By Entity"
   ]
  },
  {
   "cell_type": "code",
   "execution_count": 4,
   "metadata": {},
   "outputs": [],
   "source": [
    "def unpack_tags(x):\n",
    "    a, b = zip(*x)\n",
    "    return list(b)\n",
    "    \n",
    "y_true = list(map(lambda x: unpack_tags(x), test_samples))"
   ]
  },
  {
   "cell_type": "code",
   "execution_count": 5,
   "metadata": {},
   "outputs": [
    {
     "name": "stderr",
     "output_type": "stream",
     "text": [
      "/home/vinicius/Workspace/playtika/playtika-env/lib/python3.6/site-packages/seqeval/metrics/v1.py:57: UndefinedMetricWarning: Precision and F-score are ill-defined and being set to 0.0 in labels with no predicted samples. Use `zero_division` parameter to control this behavior.\n",
      "  _warn_prf(average, modifier, msg_start, len(result))\n"
     ]
    },
    {
     "data": {
      "text/html": [
       "<div>\n",
       "<style scoped>\n",
       "    .dataframe tbody tr th:only-of-type {\n",
       "        vertical-align: middle;\n",
       "    }\n",
       "\n",
       "    .dataframe tbody tr th {\n",
       "        vertical-align: top;\n",
       "    }\n",
       "\n",
       "    .dataframe thead tr th {\n",
       "        text-align: left;\n",
       "    }\n",
       "\n",
       "    .dataframe thead tr:last-of-type th {\n",
       "        text-align: right;\n",
       "    }\n",
       "</style>\n",
       "<table border=\"1\" class=\"dataframe\">\n",
       "  <thead>\n",
       "    <tr>\n",
       "      <th></th>\n",
       "      <th colspan=\"7\" halign=\"left\">f1-score</th>\n",
       "    </tr>\n",
       "    <tr>\n",
       "      <th>entity</th>\n",
       "      <th>LOC</th>\n",
       "      <th>MISC</th>\n",
       "      <th>ORG</th>\n",
       "      <th>PER</th>\n",
       "      <th>macro avg</th>\n",
       "      <th>micro avg</th>\n",
       "      <th>weighted avg</th>\n",
       "    </tr>\n",
       "    <tr>\n",
       "      <th>model</th>\n",
       "      <th></th>\n",
       "      <th></th>\n",
       "      <th></th>\n",
       "      <th></th>\n",
       "      <th></th>\n",
       "      <th></th>\n",
       "      <th></th>\n",
       "    </tr>\n",
       "  </thead>\n",
       "  <tbody>\n",
       "    <tr>\n",
       "      <th>bert-base-NER</th>\n",
       "      <td>0.935</td>\n",
       "      <td>0.821</td>\n",
       "      <td>0.907</td>\n",
       "      <td>0.958</td>\n",
       "      <td>0.905</td>\n",
       "      <td>0.919</td>\n",
       "      <td>0.920</td>\n",
       "    </tr>\n",
       "    <tr>\n",
       "      <th>bert-base-finetuned</th>\n",
       "      <td>0.937</td>\n",
       "      <td>0.794</td>\n",
       "      <td>0.908</td>\n",
       "      <td>0.961</td>\n",
       "      <td>0.900</td>\n",
       "      <td>0.918</td>\n",
       "      <td>0.918</td>\n",
       "    </tr>\n",
       "    <tr>\n",
       "      <th>bert-base-multilingual</th>\n",
       "      <td>0.940</td>\n",
       "      <td>0.000</td>\n",
       "      <td>0.906</td>\n",
       "      <td>0.969</td>\n",
       "      <td>0.704</td>\n",
       "      <td>0.876</td>\n",
       "      <td>0.821</td>\n",
       "    </tr>\n",
       "  </tbody>\n",
       "</table>\n",
       "</div>"
      ],
      "text/plain": [
       "                       f1-score                                           \\\n",
       "entity                      LOC   MISC    ORG    PER macro avg micro avg   \n",
       "model                                                                      \n",
       "bert-base-NER             0.935  0.821  0.907  0.958     0.905     0.919   \n",
       "bert-base-finetuned       0.937  0.794  0.908  0.961     0.900     0.918   \n",
       "bert-base-multilingual    0.940  0.000  0.906  0.969     0.704     0.876   \n",
       "\n",
       "                                     \n",
       "entity                 weighted avg  \n",
       "model                                \n",
       "bert-base-NER                 0.920  \n",
       "bert-base-finetuned           0.918  \n",
       "bert-base-multilingual        0.821  "
      ]
     },
     "execution_count": 5,
     "metadata": {},
     "output_type": "execute_result"
    }
   ],
   "source": [
    "from seqeval import metrics\n",
    "lst_dfs = []\n",
    "for name in dict_results.keys():\n",
    "\n",
    "    y_pred = dict_results[name]['preds_list']\n",
    "    df = pd.DataFrame(metrics.classification_report(y_true, y_pred, mode=None, scheme=IOB1, digits=3, output_dict=True))\n",
    "    df = df.transpose()\n",
    "    df[\"model\"] = name\n",
    "    df[\"entity\"] = df.index\n",
    "    lst_dfs.append(df)\n",
    "\n",
    "\n",
    "df_result = pd.concat(lst_dfs).pivot_table(index=\"model\", columns=\"entity\", values=[\"f1-score\"])\n",
    "df_result.round(3).sort_values(by=[(\"f1-score\", \"micro avg\")], ascending=False)\n"
   ]
  },
  {
   "cell_type": "markdown",
   "metadata": {},
   "source": [
    "###  Pairwise Model Analysis"
   ]
  },
  {
   "cell_type": "code",
   "execution_count": 42,
   "metadata": {},
   "outputs": [],
   "source": [
    "def flatten_list(array2d: List[List[str]]) -> List[str]:\n",
    "    \"\"\"Convert a 2d list of strings into a flat list of strings\n",
    "    \"\"\"\n",
    "    flat_list = [item for sublist in array2d for item in sublist]\n",
    "    return flat_list\n",
    "\n",
    "\n",
    "def contigency_table(experiment_id_A: str, experiment_id_B: str) -> np.ndarray:\n",
    "        \"\"\"Computes a contigency table between two experiments according to their predicted values\n",
    "        More details: https://en.wikipedia.org/wiki/McNemar%27s_test\n",
    "        \"\"\"\n",
    "        y_pred_A = np.array(flatten_list(dict_results[experiment_id_A]['preds_list']))\n",
    "        y_pred_B = np.array(flatten_list(dict_results[experiment_id_B]['preds_list']))\n",
    "\n",
    "        y_true_flatten = np.array(flatten_list(y_true))\n",
    "\n",
    "        from mlxtend.evaluate import mcnemar_table\n",
    "        tb = mcnemar_table(y_target=y_true_flatten,\n",
    "                           y_model1=y_pred_A,\n",
    "                           y_model2=y_pred_B)\n",
    "        return tb\n",
    "\n",
    "\n",
    "def mcnemar_test(experiment_id_A: str, experiment_id_B: str, alpha=0.05) -> tuple:\n",
    "        \"\"\"Perform the McNemar Test between two experiments according to their predicted values.\n",
    "        Null hypothesis: the two algorithms have the same error rate\n",
    "        High pvalue: Fail to Reject Null Hypothesis. Classifiers have a similar proportion of errors on the test set.\n",
    "        Small pvalue: Reject Null Hypothesis. Classifiers have a different proportion of errors on the test set.\n",
    "        More details: https://en.wikipedia.org/wiki/McNemar%27s_test\n",
    "        \"\"\"\n",
    "        from statsmodels.stats.contingency_tables import mcnemar\n",
    "\n",
    "        # create contingency table\n",
    "        tb = contigency_table(experiment_id_A, experiment_id_B)\n",
    "\n",
    "        # calculate mcnemar test\n",
    "        result = mcnemar(tb, exact=True)\n",
    "        statistic, pvalue = result.statistic, result.pvalue\n",
    "\n",
    "        # interpret the p-value\n",
    "        if pvalue > alpha:\n",
    "            return statistic, pvalue, 'Same proportions of errors (fail to reject H0)'\n",
    "        else:\n",
    "            return statistic, pvalue, 'Different proportions of errors (reject H0)'\n"
   ]
  },
  {
   "cell_type": "code",
   "execution_count": 40,
   "metadata": {},
   "outputs": [
    {
     "name": "stdout",
     "output_type": "stream",
     "text": [
      "Available experiments: dict_keys(['bert-base-finetuned', 'bert-base-NER', 'bert-base-multilingual'])\n"
     ]
    }
   ],
   "source": [
    "print(\"Available experiments:\", dict_results.keys()) "
   ]
  },
  {
   "cell_type": "markdown",
   "metadata": {},
   "source": [
    "### Contigency Table"
   ]
  },
  {
   "cell_type": "code",
   "execution_count": 38,
   "metadata": {},
   "outputs": [
    {
     "data": {
      "image/png": "[encoded data removed]",
      "text/plain": [
       "<Figure size 360x360 with 1 Axes>"
      ]
     },
     "metadata": {
      "needs_background": "light"
     },
     "output_type": "display_data"
    },
    {
     "data": {
      "text/plain": [
       "array([[13102,    93],\n",
       "       [  277,   116]])"
      ]
     },
     "execution_count": 38,
     "metadata": {},
     "output_type": "execute_result"
    }
   ],
   "source": [
    "\n",
    "import matplotlib.pyplot as plt\n",
    "from mlxtend.plotting import checkerboard_plot\n",
    "\n",
    "experiment_id_A = 'bert-base-multilingual'\n",
    "experiment_id_B = 'bert-base-NER'\n",
    "\n",
    "tb = contigency_table(experiment_id_A, experiment_id_B)\n",
    "brd = checkerboard_plot(tb,\n",
    "    figsize=(5, 5),\n",
    "    fmt='%d',\n",
    "    col_labels=['model B correct', 'model B wrong'],\n",
    "    row_labels=['model A correct', 'model A wrong']\n",
    ")\n",
    "plt.show()\n",
    "\n"
   ]
  },
  {
   "cell_type": "markdown",
   "metadata": {},
   "source": [
    "### McNemar_test"
   ]
  },
  {
   "cell_type": "code",
   "execution_count": 43,
   "metadata": {},
   "outputs": [
    {
     "data": {
      "text/plain": [
       "(93.0, 2.361625487068466e-22, 'Different proportions of errors (reject H0)')"
      ]
     },
     "execution_count": 43,
     "metadata": {},
     "output_type": "execute_result"
    }
   ],
   "source": [
    "\n",
    "experiment_id_A = 'bert-base-multilingual'\n",
    "experiment_id_B = 'bert-base-NER'\n",
    "d_stats = mcnemar_test(experiment_id_A, experiment_id_B)\n",
    "d_stats"
   ]
  },
  {
   "cell_type": "code",
   "execution_count": 45,
   "metadata": {},
   "outputs": [
    {
     "name": "stdout",
     "output_type": "stream",
     "text": [
      "Package                 Version\n",
      "----------------------- -----------\n",
      "absl-py                 1.0.0\n",
      "aiohttp                 3.8.1\n",
      "aiosignal               1.2.0\n",
      "altair                  4.1.0\n",
      "argon2-cffi             21.1.0\n",
      "astor                   0.8.1\n",
      "async-generator         1.10\n",
      "async-timeout           4.0.1\n",
      "asynctest               0.13.0\n",
      "attrs                   21.2.0\n",
      "backcall                0.2.0\n",
      "backports.zoneinfo      0.2.1\n",
      "base58                  2.1.1\n",
      "bleach                  4.1.0\n",
      "blinker                 1.4\n",
      "cachetools              4.2.4\n",
      "certifi                 2021.10.8\n",
      "cffi                    1.15.0\n",
      "charset-normalizer      2.0.9\n",
      "click                   7.1.2\n",
      "configparser            5.2.0\n",
      "cycler                  0.11.0\n",
      "dataclasses             0.8\n",
      "datasets                1.16.1\n",
      "decorator               4.4.2\n",
      "defusedxml              0.7.1\n",
      "dill                    0.3.4\n",
      "docker-pycreds          0.4.0\n",
      "docopt                  0.6.2\n",
      "entrypoints             0.3\n",
      "filelock                3.4.0\n",
      "Flask                   2.0.2\n",
      "frozenlist              1.2.0\n",
      "fsspec                  2021.11.1\n",
      "gitdb                   4.0.9\n",
      "GitPython               3.1.18\n",
      "google-auth             2.3.3\n",
      "google-auth-oauthlib    0.4.6\n",
      "grpcio                  1.42.0\n",
      "htmlmin                 0.1.12\n",
      "huggingface-hub         0.2.1\n",
      "idna                    3.3\n",
      "idna-ssl                1.1.0\n",
      "ImageHash               4.2.1\n",
      "importlib-metadata      4.8.2\n",
      "importlib-resources     5.4.0\n",
      "ipykernel               5.5.6\n",
      "ipython                 7.16.2\n",
      "ipython-genutils        0.2.0\n",
      "ipywidgets              7.6.5\n",
      "itsdangerous            2.0.1\n",
      "jedi                    0.17.2\n",
      "Jinja2                  3.0.3\n",
      "joblib                  1.0.1\n",
      "jsonschema              3.2.0\n",
      "jupyter-client          7.1.0\n",
      "jupyter-core            4.9.1\n",
      "jupyterlab-pygments     0.1.2\n",
      "jupyterlab-widgets      1.0.2\n",
      "kiwisolver              1.3.1\n",
      "Markdown                3.3.6\n",
      "MarkupSafe              2.0.1\n",
      "matplotlib              3.3.4\n",
      "missingno               0.5.0\n",
      "mistune                 0.8.4\n",
      "mlxtend                 0.19.0\n",
      "multidict               5.2.0\n",
      "multimethod             1.5\n",
      "multiprocess            0.70.12.2\n",
      "nbclient                0.5.9\n",
      "nbconvert               6.0.7\n",
      "nbformat                5.1.3\n",
      "nest-asyncio            1.5.4\n",
      "networkx                2.5.1\n",
      "notebook                6.4.6\n",
      "numpy                   1.19.5\n",
      "oauthlib                3.1.1\n",
      "packaging               21.3\n",
      "pandas                  1.1.5\n",
      "pandas-profiling        3.1.0\n",
      "pandocfilters           1.5.0\n",
      "parso                   0.7.1\n",
      "pathtools               0.1.2\n",
      "patsy                   0.5.2\n",
      "pexpect                 4.8.0\n",
      "phik                    0.12.0\n",
      "pickleshare             0.7.5\n",
      "Pillow                  8.4.0\n",
      "pip                     20.3.1\n",
      "pipreqs                 0.4.11\n",
      "prometheus-client       0.12.0\n",
      "promise                 2.3\n",
      "prompt-toolkit          3.0.23\n",
      "protobuf                3.19.1\n",
      "psutil                  5.8.0\n",
      "ptyprocess              0.7.0\n",
      "pyarrow                 6.0.1\n",
      "pyasn1                  0.4.8\n",
      "pyasn1-modules          0.2.8\n",
      "pycparser               2.21\n",
      "pydantic                1.8.2\n",
      "pydeck                  0.6.2\n",
      "Pygments                2.10.0\n",
      "Pympler                 0.9\n",
      "pyparsing               3.0.6\n",
      "pyrsistent              0.18.0\n",
      "python-crfsuite         0.9.7\n",
      "python-dateutil         2.8.2\n",
      "pytz                    2021.3\n",
      "pytz-deprecation-shim   0.1.0.post0\n",
      "PyWavelets              1.1.1\n",
      "PyYAML                  6.0\n",
      "pyzmq                   22.3.0\n",
      "regex                   2021.11.10\n",
      "requests                2.26.0\n",
      "requests-oauthlib       1.3.0\n",
      "rsa                     4.8\n",
      "sacremoses              0.0.46\n",
      "scikit-learn            0.24.2\n",
      "scipy                   1.5.4\n",
      "seaborn                 0.11.2\n",
      "Send2Trash              1.8.0\n",
      "sentencepiece           0.1.96\n",
      "sentry-sdk              1.5.0\n",
      "seqeval                 1.2.2\n",
      "setuptools              51.0.0\n",
      "shortuuid               1.0.8\n",
      "simpletransformers      0.63.3\n",
      "six                     1.16.0\n",
      "sklearn-crfsuite        0.3.6\n",
      "smmap                   5.0.0\n",
      "statsmodels             0.12.2\n",
      "streamlit               1.2.0\n",
      "subprocess32            3.5.4\n",
      "tabulate                0.8.9\n",
      "tangled-up-in-unicode   0.1.0\n",
      "tensorboard             2.7.0\n",
      "tensorboard-data-server 0.6.1\n",
      "tensorboard-plugin-wit  1.8.0\n",
      "termcolor               1.1.0\n",
      "terminado               0.12.1\n",
      "testpath                0.5.0\n",
      "threadpoolctl           3.0.0\n",
      "tokenizers              0.10.3\n",
      "toml                    0.10.2\n",
      "toolz                   0.11.2\n",
      "torch                   1.10.0\n",
      "torchvision             0.11.1\n",
      "tornado                 6.1\n",
      "tqdm                    4.62.3\n",
      "traitlets               4.3.3\n",
      "transformers            4.12.5\n",
      "typing-extensions       4.0.1\n",
      "tzdata                  2021.5\n",
      "tzlocal                 4.1\n",
      "urllib3                 1.26.7\n",
      "validators              0.18.2\n",
      "visions                 0.7.4\n",
      "wandb                   0.12.7\n",
      "watchdog                2.1.6\n",
      "wcwidth                 0.2.5\n",
      "webencodings            0.5.1\n",
      "Werkzeug                2.0.2\n",
      "wheel                   0.36.1\n",
      "widgetsnbextension      3.5.2\n",
      "xxhash                  2.0.2\n",
      "yarg                    0.1.9\n",
      "yarl                    1.7.2\n",
      "yaspin                  2.1.0\n",
      "zipp                    3.6.0\n",
      "\u001b[33mWARNING: You are using pip version 20.3.1; however, version 21.3.1 is available.\n",
      "You should consider upgrading via the '/home/vinicius/Workspace/playtika/playtika-env/bin/python -m pip install --upgrade pip' command.\u001b[0m\n",
      "Note: you may need to restart the kernel to use updated packages.\n"
     ]
    }
   ],
   "source": [
    "pip list"
   ]
  },
  {
   "cell_type": "code",
   "execution_count": null,
   "metadata": {},
   "outputs": [],
   "source": []
  }
 ],
 "metadata": {
  "kernelspec": {
   "display_name": "playtika2-env",
   "language": "python",
   "name": "playtika2-env"
  },
  "language_info": {
   "codemirror_mode": {
    "name": "ipython",
    "version": 3
   },
   "file_extension": ".py",
   "mimetype": "text/x-python",
   "name": "python",
   "nbconvert_exporter": "python",
   "pygments_lexer": "ipython3",
   "version": "3.6.9"
  }
 },
 "nbformat": 4,
 "nbformat_minor": 5
}
